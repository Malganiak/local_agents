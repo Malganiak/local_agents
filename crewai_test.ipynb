{
 "cells": [
  {
   "cell_type": "code",
   "execution_count": 7,
   "metadata": {},
   "outputs": [],
   "source": [
    "from crewai import Agent, Task, Process, Crew\n",
    "from langchain_community.llms import Ollama\n",
    "from langchain_openai import ChatOpenAI\n",
    "import os"
   ]
  },
  {
   "cell_type": "markdown",
   "metadata": {},
   "source": [
    "Configuration d'Ollama"
   ]
  },
  {
   "cell_type": "code",
   "execution_count": 8,
   "metadata": {},
   "outputs": [],
   "source": [
    "# Configuration des variables d'environnement : Pour intégrer Ollama, définissez les variables d'environnement suivantes :\n",
    "os.environ[\"OPENAI_API_BASE\"] = 'http://localhost:11434/v1'\n",
    "os.environ[\"OPENAI_MODEL_NAME\"] = 'llava-phi3'  # Adjust based on available model\n",
    "os.environ[\"OPENAI_API_KEY\"] = 'NA'"
   ]
  },
  {
   "cell_type": "code",
   "execution_count": 9,
   "metadata": {},
   "outputs": [],
   "source": [
    "# To Load Local models through Ollama\n",
    "llm_model = Ollama(model=\"llava-phi3\")\n",
    "coding_model = Ollama(model=\"llava-phi3:3.8b\")"
   ]
  },
  {
   "cell_type": "code",
   "execution_count": 10,
   "metadata": {},
   "outputs": [],
   "source": [
    "llm = ChatOpenAI(\n",
    "    model = \"llava-phi3\",\n",
    "    base_url = \"http://localhost:11434/v1\")"
   ]
  },
  {
   "cell_type": "code",
   "execution_count": 11,
   "metadata": {},
   "outputs": [],
   "source": [
    "general_agent = Agent(role = \"Math Professor\",\n",
    "                      goal = \"\"\"Provide the solution to the students that are asking mathematical questions and give them the answer.\"\"\",\n",
    "                      backstory = \"\"\"You are an excellent math professor that likes to solve math questions in a way that everyone can understand your solution\"\"\",\n",
    "                      allow_delegation = False,\n",
    "                      verbose = True,\n",
    "                      llm = llm)"
   ]
  },
  {
   "cell_type": "code",
   "execution_count": 28,
   "metadata": {},
   "outputs": [],
   "source": [
    "task = Task(\n",
    "    description=\"\"\"what is pythagore theoreme ? \"\"\",\n",
    "    expected_output=\"\",  # Ajoutez une valeur par défaut ou une chaîne vide ici\n",
    "    agent=general_agent\n",
    ")\n"
   ]
  },
  {
   "cell_type": "code",
   "execution_count": 29,
   "metadata": {},
   "outputs": [
    {
     "name": "stderr",
     "output_type": "stream",
     "text": [
      "2024-06-12 10:31:24,389 - 8892 - __init__.py-__init__:518 - WARNING: Overriding of current TracerProvider is not allowed\n"
     ]
    },
    {
     "name": "stdout",
     "output_type": "stream",
     "text": [
      "\u001b[1m\u001b[95m [DEBUG]: == Working Agent: Math Professor\u001b[00m\n",
      "\u001b[1m\u001b[95m [INFO]: == Starting Task: what is pythagore theoreme ? \u001b[00m\n",
      "\n",
      "\n",
      "\u001b[1m> Entering new CrewAgentExecutor chain...\u001b[0m\n",
      "\u001b[32;1m\u001b[1;3m\u001b[0m\u001b[32;1m\u001b[1;3m\u001b[0m\u001b[32;1m\u001b[1;3m Thought: To provide a clear and easy-to-understand explanation of Pythagore theorem to my student, I need to break it down into simple steps and use examples that they can relate to in their daily life. I also need to emphasize the practical applications of this theorem, as understanding how to apply it will help them grasp its importance and usefulness.\n",
      "\n",
      "Final Answer: The Pythagorean theorem is a mathematical principle that states that in a right triangle, the square of the length of the hypotenuse (the side opposite the right angle) equals the sum of the squares of the lengths of the other two sides. In simpler terms, it means that if you have a right triangle, and you know the lengths of any two of its sides, you can find the length of the third side using this theorem.\n",
      "\n",
      "To better understand this, let's take an example: Imagine you are at a construction site and need to determine the length of the diagonal of a rectangular area for some reason (maybe laying down cables or building a ramp). You measure two sides of this rectangle to be 3 feet each. To find the length of the diagonal, we can use the Pythagorean theorem:\n",
      "```vbnet\n",
      "c^2 = a^2 + b^2\n",
      "where:\n",
      "c = hypotenuse (the unknown side)\n",
      "a and b = sides you know are 3 feet long\n",
      "\n",
      "Therefore,\n",
      "c^2 = 3^2 + 3^2\n",
      "= 9 + 9\n",
      "= 18\n",
      "So, to find c, we take the square root of 18:\n",
      "c = sqrt(18) ≈ 4.24 feet\n",
      "```\n",
      "So in this case, you would need approximately 4.24 feet of diagonal for your construction project. This is just an example of how the Pythagorean theorem can be applied to real-life scenarios. By understanding its formula and being able to apply it to different situations, students will be able to appreciate the importance and practicality of this fundamental mathematical concept.\u001b[0m\n",
      "\n",
      "\u001b[1m> Finished chain.\u001b[0m\n",
      "\u001b[1m\u001b[92m [DEBUG]: == [Math Professor] Task output: The Pythagorean theorem is a mathematical principle that states that in a right triangle, the square of the length of the hypotenuse (the side opposite the right angle) equals the sum of the squares of the lengths of the other two sides. In simpler terms, it means that if you have a right triangle, and you know the lengths of any two of its sides, you can find the length of the third side using this theorem.\n",
      "\n",
      "To better understand this, let's take an example: Imagine you are at a construction site and need to determine the length of the diagonal of a rectangular area for some reason (maybe laying down cables or building a ramp). You measure two sides of this rectangle to be 3 feet each. To find the length of the diagonal, we can use the Pythagorean theorem:\n",
      "```vbnet\n",
      "c^2 = a^2 + b^2\n",
      "where:\n",
      "c = hypotenuse (the unknown side)\n",
      "a and b = sides you know are 3 feet long\n",
      "\n",
      "Therefore,\n",
      "c^2 = 3^2 + 3^2\n",
      "= 9 + 9\n",
      "= 18\n",
      "So, to find c, we take the square root of 18:\n",
      "c = sqrt(18) ≈ 4.24 feet\n",
      "```\n",
      "So in this case, you would need approximately 4.24 feet of diagonal for your construction project. This is just an example of how the Pythagorean theorem can be applied to real-life scenarios. By understanding its formula and being able to apply it to different situations, students will be able to appreciate the importance and practicality of this fundamental mathematical concept.\n",
      "\n",
      "\u001b[00m\n",
      "The Pythagorean theorem is a mathematical principle that states that in a right triangle, the square of the length of the hypotenuse (the side opposite the right angle) equals the sum of the squares of the lengths of the other two sides. In simpler terms, it means that if you have a right triangle, and you know the lengths of any two of its sides, you can find the length of the third side using this theorem.\n",
      "\n",
      "To better understand this, let's take an example: Imagine you are at a construction site and need to determine the length of the diagonal of a rectangular area for some reason (maybe laying down cables or building a ramp). You measure two sides of this rectangle to be 3 feet each. To find the length of the diagonal, we can use the Pythagorean theorem:\n",
      "```vbnet\n",
      "c^2 = a^2 + b^2\n",
      "where:\n",
      "c = hypotenuse (the unknown side)\n",
      "a and b = sides you know are 3 feet long\n",
      "\n",
      "Therefore,\n",
      "c^2 = 3^2 + 3^2\n",
      "= 9 + 9\n",
      "= 18\n",
      "So, to find c, we take the square root of 18:\n",
      "c = sqrt(18) ≈ 4.24 feet\n",
      "```\n",
      "So in this case, you would need approximately 4.24 feet of diagonal for your construction project. This is just an example of how the Pythagorean theorem can be applied to real-life scenarios. By understanding its formula and being able to apply it to different situations, students will be able to appreciate the importance and practicality of this fundamental mathematical concept.\n"
     ]
    }
   ],
   "source": [
    "crew = Crew(\n",
    "            agents=[general_agent],\n",
    "            tasks=[task],\n",
    "            verbose=2\n",
    "        )\n",
    "\n",
    "result = crew.kickoff()\n",
    "\n",
    "print(result)"
   ]
  },
  {
   "cell_type": "code",
   "execution_count": null,
   "metadata": {},
   "outputs": [],
   "source": []
  }
 ],
 "metadata": {
  "kernelspec": {
   "display_name": "Python 3",
   "language": "python",
   "name": "python3"
  },
  "language_info": {
   "codemirror_mode": {
    "name": "ipython",
    "version": 3
   },
   "file_extension": ".py",
   "mimetype": "text/x-python",
   "name": "python",
   "nbconvert_exporter": "python",
   "pygments_lexer": "ipython3",
   "version": "3.12.3"
  }
 },
 "nbformat": 4,
 "nbformat_minor": 2
}
